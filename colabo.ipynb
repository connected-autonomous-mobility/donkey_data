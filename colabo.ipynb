{
 "cells": [
  {
   "cell_type": "markdown",
   "metadata": {},
   "source": [
    "you must change colab's runtime type\n",
    "runtime > change runtime type > hardware accelerator > GPU"
   ]
  },
  {
   "cell_type": "code",
   "execution_count": 1,
   "metadata": {
    "scrolled": true
   },
   "outputs": [],
   "source": [
    "#uninstall tensorflow\n",
    "!pip3 uninstall -y tensorflow"
   ]
  },
  {
   "cell_type": "code",
   "execution_count": null,
   "metadata": {},
   "outputs": [],
   "source": [
    "#install tensorflow-gpu version 1.15.0\n",
    "!pip3 install tensorflow-gpu==1.15.0"
   ]
  },
  {
   "cell_type": "code",
   "execution_count": null,
   "metadata": {},
   "outputs": [],
   "source": [
    "#check colab's gpu\n",
    "#it is ok if Found GPU at: /device:GPU:0 is displayed\n",
    "import tensorflow as tf\n",
    "device_name = tf.test.gpu_device_name()\n",
    "if device_name != '/device:GPU:0':\n",
    "  raise SystemError('GPU device not found')\n",
    "print('Found GPU at: {}'.format(device_name))"
   ]
  },
  {
   "cell_type": "code",
   "execution_count": null,
   "metadata": {},
   "outputs": [],
   "source": [
    "#install donkey\n",
    "!git clone https://github.com/autorope/donkeycar.git \n",
    "%cd donkeycar\n",
    "!git checkout master\n",
    "!pip3 install -e .[pc]"
   ]
  },
  {
   "cell_type": "code",
   "execution_count": null,
   "metadata": {},
   "outputs": [],
   "source": [
    "#make project\n",
    "!donkey createcar --path /content/mycar"
   ]
  },
  {
   "cell_type": "code",
   "execution_count": null,
   "metadata": {},
   "outputs": [],
   "source": [
    "#mount your google drive under /content/drive\n",
    "from google.colab import drive \n",
    "drive.mount('/content/drive')"
   ]
  },
  {
   "cell_type": "code",
   "execution_count": null,
   "metadata": {},
   "outputs": [],
   "source": [
    "#copy learning data from your google drive to colab\n",
    "\n",
    "#replace to learning data's path of google drive\n",
    "data_path = '/content/drive/My\\ Drive/donkey/data.zip'\n",
    "\n",
    "!cp $data_path /content/mycar/data/data.zip"
   ]
  },
  {
   "cell_type": "code",
   "execution_count": null,
   "metadata": {},
   "outputs": [],
   "source": [
    "#unpack learning data archive\n",
    "%cd /content/mycar/data/\n",
    "!unzip data.zip"
   ]
  },
  {
   "cell_type": "code",
   "execution_count": null,
   "metadata": {},
   "outputs": [],
   "source": [
    "#copy myconfig.py from your google drive to colab\n",
    "\n",
    "#replace to myconfig.py's path of google drive\n",
    "cfg_path = '/content/drive/My\\ Drive/donkey/myconfig.py'\n",
    "\n",
    "!cp $cfg_path /content/mycar/myconfig.py"
   ]
  },
  {
   "cell_type": "code",
   "execution_count": null,
   "metadata": {},
   "outputs": [],
   "source": [
    "#train data\n",
    "\n",
    "#replace to tub name\n",
    "tub_name = 'tub_35_20-02-23'\n",
    "model_name = 'autopilot.h5'\n",
    "\n",
    "%cd /content/mycar/\n",
    "!python3 manage.py train --tub data/$tub_name --type linear --model models/$model_name"
   ]
  },
  {
   "cell_type": "code",
   "execution_count": null,
   "metadata": {},
   "outputs": [],
   "source": [
    "#install depending package for make salient movie\n",
    "!pip3 install git+https://github.com/autorope/keras-vis.git"
   ]
  },
  {
   "cell_type": "code",
   "execution_count": null,
   "metadata": {},
   "outputs": [],
   "source": [
    "#make salient movie\n",
    "#this is optional\n",
    "\n",
    "#replace to movie name\n",
    "movie_name = 'out.mp4'\n",
    "\n",
    "%cd /content/mycar\n",
    "!donkey makemovie --tub data/$tub_name --out $movie_name --config myconfig.py --salient --model models/$model_name --type linear"
   ]
  },
  {
   "cell_type": "code",
   "execution_count": null,
   "metadata": {},
   "outputs": [],
   "source": [
    "#copy model from colab to your google drive\n",
    "\n",
    "#replace google drive's path for saving model\n",
    "model_path = '/content/drive/My\\ Drive/donkey/'\n",
    "\n",
    "!cp /content/mycar/models/$movie_name $model_path"
   ]
  },
  {
   "cell_type": "code",
   "execution_count": null,
   "metadata": {},
   "outputs": [],
   "source": [
    "#copy salient movie from colab to your google drive\n",
    "\n",
    "#replace to your google drive's path for saving movie\n",
    "movie_path = '/content/drive/My\\ Drive/donkey/'\n",
    "\n",
    "!cp /content/mycar/$movie_name $movie_path"
   ]
  }
 ],
 "metadata": {
  "kernelspec": {
   "display_name": "Python 3",
   "language": "python",
   "name": "python3"
  },
  "language_info": {
   "codemirror_mode": {
    "name": "ipython",
    "version": 3
   },
   "file_extension": ".py",
   "mimetype": "text/x-python",
   "name": "python",
   "nbconvert_exporter": "python",
   "pygments_lexer": "ipython3",
   "version": "3.7.3"
  }
 },
 "nbformat": 4,
 "nbformat_minor": 2
}
