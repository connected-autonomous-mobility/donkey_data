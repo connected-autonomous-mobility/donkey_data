{
  "nbformat": 4,
  "nbformat_minor": 0,
  "metadata": {
    "kernelspec": {
      "display_name": "Python 3",
      "language": "python",
      "name": "python3"
    },
    "language_info": {
      "codemirror_mode": {
        "name": "ipython",
        "version": 3
      },
      "file_extension": ".py",
      "mimetype": "text/x-python",
      "name": "python",
      "nbconvert_exporter": "python",
      "pygments_lexer": "ipython3",
      "version": "3.7.3"
    },
    "colab": {
      "name": "colabo.ipynb",
      "provenance": [],
      "private_outputs": true,
      "toc_visible": true
    },
    "accelerator": "GPU"
  },
  "cells": [
    {
      "cell_type": "markdown",
      "metadata": {
        "id": "hVt_SsTqxtFP",
        "colab_type": "text"
      },
      "source": [
        "# Training donkeycar data \n",
        "\n",
        "## Step 1. GPU setting"
      ]
    },
    {
      "cell_type": "markdown",
      "metadata": {
        "id": "gtv1SxYEqYVt",
        "colab_type": "text"
      },
      "source": [
        "you must change colab's runtime type\n",
        "runtime > change runtime type > hardware accelerator > GPU"
      ]
    },
    {
      "cell_type": "markdown",
      "metadata": {
        "id": "caTLT1Rhx90j",
        "colab_type": "text"
      },
      "source": [
        "## Step 2. Replacing Tensor Flow with apporopriate version "
      ]
    },
    {
      "cell_type": "code",
      "metadata": {
        "scrolled": true,
        "id": "v_xhqb35qYVu",
        "colab_type": "code",
        "colab": {}
      },
      "source": [
        "#uninstall tensorflow\n",
        "!pip3 uninstall -y tensorflow"
      ],
      "execution_count": 0,
      "outputs": []
    },
    {
      "cell_type": "code",
      "metadata": {
        "id": "_OVoTKdTqYVy",
        "colab_type": "code",
        "colab": {}
      },
      "source": [
        "#install tensorflow-gpu version 1.15.0\n",
        "!pip3 install tensorflow-gpu==1.15.0"
      ],
      "execution_count": 0,
      "outputs": []
    },
    {
      "cell_type": "code",
      "metadata": {
        "id": "QSn011S3qYV1",
        "colab_type": "code",
        "colab": {}
      },
      "source": [
        "#check colab's gpu\n",
        "#it is ok if Found GPU at: /device:GPU:0 is displayed\n",
        "import tensorflow as tf\n",
        "device_name = tf.test.gpu_device_name()\n",
        "if device_name != '/device:GPU:0':\n",
        "  raise SystemError('GPU device not found')\n",
        "print('Found GPU at: {}'.format(device_name))"
      ],
      "execution_count": 0,
      "outputs": []
    },
    {
      "cell_type": "markdown",
      "metadata": {
        "id": "mIBW1zx2yL94",
        "colab_type": "text"
      },
      "source": [
        "## Step 3. Installing Donkeycar"
      ]
    },
    {
      "cell_type": "code",
      "metadata": {
        "id": "Emo6on4WqYV4",
        "colab_type": "code",
        "colab": {}
      },
      "source": [
        "#install donkey\n",
        "!git clone https://github.com/autorope/donkeycar.git \n",
        "%cd donkeycar\n",
        "!git checkout master\n",
        "!pip3 install -e .[pc]"
      ],
      "execution_count": 0,
      "outputs": []
    },
    {
      "cell_type": "markdown",
      "metadata": {
        "id": "kbD1M5Ujybof",
        "colab_type": "text"
      },
      "source": [
        "## Step 4. Obtaining Training data from GitHub"
      ]
    },
    {
      "cell_type": "code",
      "metadata": {
        "id": "1BV-ELlDqYV7",
        "colab_type": "code",
        "colab": {}
      },
      "source": [
        "#Cloning the project\n",
        "#!donkey createcar --path /content/mycar\n",
        "%cd /content\n",
        "!git clone https://github.com/hogenimushi/donkey_data"
      ],
      "execution_count": 0,
      "outputs": []
    },
    {
      "cell_type": "markdown",
      "metadata": {
        "id": "v91Hw4N8ynJi",
        "colab_type": "text"
      },
      "source": [
        "## Step 5. Training"
      ]
    },
    {
      "cell_type": "code",
      "metadata": {
        "id": "f9syhgK7rwqz",
        "colab_type": "code",
        "colab": {}
      },
      "source": [
        "# Training!\n",
        "%cd /content/donkey_data\n",
        "!make train_fast20"
      ],
      "execution_count": 0,
      "outputs": []
    },
    {
      "cell_type": "markdown",
      "metadata": {
        "id": "sml2eZb-yukI",
        "colab_type": "text"
      },
      "source": [
        "## Step 6. Copy trained model to your Drive "
      ]
    },
    {
      "cell_type": "code",
      "metadata": {
        "id": "jm6UCNmnqYV-",
        "colab_type": "code",
        "colab": {}
      },
      "source": [
        "#mount your google drive under /content/drive\n",
        "from google.colab import drive \n",
        "drive.mount('/content/drive')"
      ],
      "execution_count": 0,
      "outputs": []
    },
    {
      "cell_type": "code",
      "metadata": {
        "id": "Lh-dTy_8qYWS",
        "colab_type": "code",
        "colab": {}
      },
      "source": [
        "#copy model from colab to your google drive\n",
        "\n",
        "#replace google drive's path for saving model\n",
        "model_path = '/content/drive/My\\ Drive'\n",
        "\n",
        "!cp -r /content/donkey_data/models $model_path/model_`date \"+%Y%m%d%H%M%S\"`"
      ],
      "execution_count": 0,
      "outputs": []
    },
    {
      "cell_type": "markdown",
      "metadata": {
        "id": "Zh8M2Py9y5m-",
        "colab_type": "text"
      },
      "source": [
        "## Step 7. Generate a movie driven by the model\n",
        "(Not supported yet) "
      ]
    },
    {
      "cell_type": "code",
      "metadata": {
        "id": "EdkVsrqBqYWL",
        "colab_type": "code",
        "colab": {}
      },
      "source": [
        "#install depending package for make salient movie\n",
        "!pip3 install git+https://github.com/autorope/keras-vis.git"
      ],
      "execution_count": 0,
      "outputs": []
    },
    {
      "cell_type": "code",
      "metadata": {
        "id": "Dl1qWuXvqYWQ",
        "colab_type": "code",
        "colab": {}
      },
      "source": [
        "#make salient movie\n",
        "#this is optional\n",
        "\n",
        "#replace to movie name\n",
        "movie_name = 'out.mp4'\n",
        "\n",
        "%cd /content/mycar\n",
        "!donkey makemovie --tub data/$tub_name --out $movie_name --config myconfig.py --salient --model models/$model_name --type linear"
      ],
      "execution_count": 0,
      "outputs": []
    },
    {
      "cell_type": "code",
      "metadata": {
        "id": "534x_nrXqYWU",
        "colab_type": "code",
        "colab": {}
      },
      "source": [
        "#copy salient movie from colab to your google drive\n",
        "\n",
        "#replace to your google drive's path for saving movie\n",
        "movie_path = '/content/drive/My\\ Drive/donkey/'\n",
        "\n",
        "!cp /content/mycar/$movie_name $movie_path"
      ],
      "execution_count": 0,
      "outputs": []
    }
  ]
}